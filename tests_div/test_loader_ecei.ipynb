{
 "cells": [
  {
   "cell_type": "code",
   "execution_count": 1,
   "metadata": {},
   "outputs": [],
   "source": [
    "%load_ext autoreload\n",
    "%autoreload 2"
   ]
  },
  {
   "cell_type": "code",
   "execution_count": null,
   "metadata": {},
   "outputs": [],
   "source": []
  },
  {
   "cell_type": "code",
   "execution_count": 2,
   "metadata": {},
   "outputs": [],
   "source": [
    "import json\n"
   ]
  },
  {
   "cell_type": "code",
   "execution_count": 44,
   "metadata": {},
   "outputs": [],
   "source": [
    "with open(\"../configs/test_all.json\", \"r\") as df:\n",
    "    cfg = json.load(df)"
   ]
  },
  {
   "cell_type": "code",
   "execution_count": 127,
   "metadata": {},
   "outputs": [],
   "source": [
    "import sys\n",
    "sys.path.append(\"/global/homes/r/rkube/repos/delta\")"
   ]
  },
  {
   "cell_type": "code",
   "execution_count": 155,
   "metadata": {},
   "outputs": [],
   "source": [
    "from sources.loader_ecei import loader_ecei\n",
    "from analysis.channels import channel_range"
   ]
  },
  {
   "cell_type": "code",
   "execution_count": null,
   "metadata": {},
   "outputs": [],
   "source": []
  },
  {
   "cell_type": "code",
   "execution_count": 156,
   "metadata": {},
   "outputs": [],
   "source": [
    "loader = loader_ecei(cfg)"
   ]
  },
  {
   "cell_type": "code",
   "execution_count": 157,
   "metadata": {},
   "outputs": [],
   "source": [
    "tb = loader.gen_timebase(0)\n",
    "print(tb)"
   ]
  },
  {
   "cell_type": "code",
   "execution_count": null,
   "metadata": {},
   "outputs": [],
   "source": []
  },
  {
   "cell_type": "code",
   "execution_count": 159,
   "metadata": {},
   "outputs": [],
   "source": [
    "batch_gen = loader.batch_generator()"
   ]
  },
  {
   "cell_type": "code",
   "execution_count": 160,
   "metadata": {},
   "outputs": [
    {
     "name": "stdout",
     "output_type": "stream",
     "text": [
      "I don't have normalization\n",
      "I found 4999 frames to calculate the normalization on\n",
      "Yielding for chunk 0\n",
      "I got a normalization\n",
      "Yielding for chunk 1\n",
      "I got a normalization\n",
      "Yielding for chunk 2\n",
      "I got a normalization\n",
      "Yielding for chunk 3\n",
      "I got a normalization\n",
      "Yielding for chunk 4\n",
      "I got a normalization\n",
      "Yielding for chunk 5\n",
      "[[-1.0587541  -1.03590529 -1.00396357 ... -1.08595508 -1.05284761\n",
      "  -1.03582757]\n",
      " [-1.02670523 -1.03221207 -1.02788949 ... -1.02777107 -1.02800792\n",
      "  -1.04198227]\n",
      " [-1.02881125 -1.04224789 -1.03449598 ... -1.02260973 -1.03133062\n",
      "  -1.03733835]\n",
      " ...\n",
      " [-1.09955682 -1.09933801 -1.06936157 ... -1.0951807  -1.13489402\n",
      "  -1.1022919 ]\n",
      " [-1.01023617 -1.00586447 -0.99872048 ... -1.02452415 -1.01929944\n",
      "  -1.04595613]\n",
      " [-0.99946051 -0.98293877 -0.98738953 ... -0.99696539 -0.9943354\n",
      "  -0.98921029]]\n"
     ]
    }
   ],
   "source": [
    "i = 0\n",
    "for data in batch_gen:\n",
    "    i += 1\n",
    "    if i > 5:\n",
    "        break\n",
    "print(data)"
   ]
  },
  {
   "cell_type": "code",
   "execution_count": 138,
   "metadata": {},
   "outputs": [
    {
     "name": "stdout",
     "output_type": "stream",
     "text": [
      "Yielding for chunk 17\n",
      "Yielding for chunk 18\n",
      "Yielding for chunk 19\n",
      "Yielding for chunk 20\n",
      "Yielding for chunk 21\n",
      "[[  1126.   1473.   1043. ...   5836.   5384.   5453.]\n",
      " [ -8085.  -7815.  -7764. ...  -5278.  -4980.  -4805.]\n",
      " [ -5574.  -5407.  -5844. ...  -3581.  -3128.  -2588.]\n",
      " ...\n",
      " [  -571.   -662.   -857. ...   -776.   -339.    -26.]\n",
      " [ -6023.  -6138.  -6058. ...  -5899.  -5630.  -4999.]\n",
      " [-14100. -14122. -14274. ... -14128. -13794. -13631.]]\n"
     ]
    }
   ],
   "source": [
    "for data in my_b:\n",
    "    i += 1\n",
    "    if i > 10:\n",
    "        break\n",
    "print(data)"
   ]
  },
  {
   "cell_type": "code",
   "execution_count": 139,
   "metadata": {},
   "outputs": [
    {
     "data": {
      "text/plain": [
       "21"
      ]
     },
     "execution_count": 139,
     "metadata": {},
     "output_type": "execute_result"
    }
   ],
   "source": [
    "loader.current_chunk"
   ]
  },
  {
   "cell_type": "code",
   "execution_count": 141,
   "metadata": {},
   "outputs": [],
   "source": [
    "tb = loader.gen_timebase()"
   ]
  },
  {
   "cell_type": "code",
   "execution_count": 142,
   "metadata": {},
   "outputs": [
    {
     "data": {
      "text/plain": [
       "array([0.3     , 0.300002, 0.300004, ..., 0.319994, 0.319996, 0.319998])"
      ]
     },
     "execution_count": 142,
     "metadata": {},
     "output_type": "execute_result"
    }
   ],
   "source": [
    "tb"
   ]
  },
  {
   "cell_type": "code",
   "execution_count": null,
   "metadata": {},
   "outputs": [],
   "source": []
  }
 ],
 "metadata": {
  "kernelspec": {
   "display_name": "intel",
   "language": "python",
   "name": "intel"
  },
  "language_info": {
   "codemirror_mode": {
    "name": "ipython",
    "version": 3
   },
   "file_extension": ".py",
   "mimetype": "text/x-python",
   "name": "python",
   "nbconvert_exporter": "python",
   "pygments_lexer": "ipython3",
   "version": "3.7.4"
  }
 },
 "nbformat": 4,
 "nbformat_minor": 4
}
